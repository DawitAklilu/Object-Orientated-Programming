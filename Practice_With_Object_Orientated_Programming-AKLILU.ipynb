{
 "cells": [
  {
   "cell_type": "markdown",
   "metadata": {},
   "source": [
    "# Practice with Object Orientated Programming\n",
    "\n",
    "\n",
    "<img src=\"https://www.brandchannel.com/wp-content/uploads/2012/06/madagascar_central_park_zoo_560.jpg\" width=500px>"
   ]
  },
  {
   "cell_type": "markdown",
   "metadata": {},
   "source": [
    "### <p style=\"text-align: right;\"> &#9989; Dawit Aklilu\n",
    "<p style=\"text-align: right;\"> &#9989; Github- DawitAklilu"
   ]
  },
  {
   "cell_type": "code",
   "execution_count": 1,
   "metadata": {},
   "outputs": [],
   "source": [
    "#download files\n",
    "# import animal and zoo class; Animal file contains definitions of all required animal classes\n",
    "from Animals import Animal, Penguin, Zebra, Lion\n",
    "from Zoo import Zoo\n",
    "\n",
    "# import usual classes\n",
    "import numpy as np\n",
    "import matplotlib.pyplot as plt\n",
    "\n",
    "# The magic command below tells Jupyter Notebook to automatically load classes and methods from external files \n",
    "# in case they have changed from last load time;\n",
    "# This is needed when you change the Animal.py file\n",
    "%reload_ext autoreload\n",
    "%autoreload 2"
   ]
  },
  {
   "cell_type": "markdown",
   "metadata": {},
   "source": [
    "---\n",
    "<a id=\"person\"></a>\n",
    "## 1: Creating a `Person` object\n",
    "\n",
    "The objective of the first part of the assignment is to create a class that will allow us to add personnel to the Zoo object. To practice creating and using custom (not built-in) classes in Python, we will create a `Person` class based on list of requirements that object needs to provide. \n",
    "\n",
    "The `Person` object's attributes and methods, that is, the \"functionality\" of the object, is as follows:\n",
    " - **attributes in the class** (information that can be stored in the class):\n",
    "   - person's name\n",
    "   - kind of animal they are specialized for (are trained to take care of)\n",
    "   - how many animals can the person take care of\n",
    "\n",
    "\n",
    " - **methods that the class has to provide**:\n",
    "   - initialization of the class: the method should **accept one parameter** - person's name\n",
    "      - the initialization should also define initial values for all attributes of the class\n",
    "   - `set_name`: set person's name\n",
    "   - `get_name`: get person's name\n",
    "   - `set_specialty`: set specialty of the person by defining which animal the person can be responsible for and how many of them they are capable of taking care of\n",
    "      - parameters given to this method are: animal kind, number of animals\n",
    "   - `get_kind`: get animal 'kind' for which the person is responsible for\n",
    "   - `get_number_animals`: get number of animals the person can be responsible for\n",
    "   - `get_specialty`: get person's specialty (animal kind _and_ number of them)\n",
    "      - the method should return **two** values: animal kind, number of animals\n",
    "   - `info`: prints person's information: name, animal kind, number of animals"
   ]
  },
  {
   "cell_type": "code",
   "execution_count": 22,
   "metadata": {},
   "outputs": [],
   "source": [
    "class Person():\n",
    "    def __init__(self,name):\n",
    "        self.name = name\n",
    "        self.kind = \"\"\n",
    "        self.number_animals = 0\n",
    "    \n",
    "    def set_name(self, name):\n",
    "        \"\"\" Set animal's name. \"\"\"\n",
    "        self.name = name\n",
    "        \n",
    "    def get_name(self):\n",
    "        \"\"\" Return animal's nick name. \"\"\"\n",
    "        return self.name\n",
    "    \n",
    "    def set_specialty(self,kind, number_animals):\n",
    "        self.number_animals = number_animals\n",
    "        self.kind = kind\n",
    "        \n",
    "    def get_kind(self):\n",
    "        \"\"\" Return animal's kind. \"\"\"\n",
    "        return self.kind\n",
    "    \n",
    "    def get_number_keepers(self):\n",
    "        \"\"\" Return the number of Zoo keepers required by a single animal. \"\"\"\n",
    "        return self.required_staff\n",
    "        \n",
    "    def get_specialty(self):\n",
    "        return self.number, self.kind\n",
    "        \n",
    "        \n",
    "    def info(self):\n",
    "        print(self.name, self.kind, self.number_animals)"
   ]
  },
  {
   "cell_type": "markdown",
   "metadata": {},
   "source": [
    "### 1.1 Test your code!\n",
    "\n",
    "**&#9989; Do This:** Use the code in the cell below to test your `Person` class. The code creates two objects as zookeepers and prints their information, provided by method `Person.info()`. This short code tests that attributes are defined and stored correctly, and that one can retrieve attributed from class. The printout should look similar to this, but will vary based on how you formatted your print statements:\n",
    "```\n",
    "Jack is a zookeeper and can take care of maximum 1 lion(s).\n",
    "Suzy is a zookeeper and can take care of maximum 3 penguin(s).\n",
    "```\n",
    "If that's the case, you are good to move on!"
   ]
  },
  {
   "cell_type": "code",
   "execution_count": 23,
   "metadata": {},
   "outputs": [
    {
     "name": "stdout",
     "output_type": "stream",
     "text": [
      "Jack lion 1\n",
      "Suzy penguin 3\n"
     ]
    }
   ],
   "source": [
    "# test your class with following code\n",
    "jack = Person('Jack')\n",
    "jack.get_name()\n",
    "jack.set_specialty('lion', 1)\n",
    "jack.get_kind()\n",
    "jack.info()\n",
    "suzy = Person('Suzy')\n",
    "suzy.set_specialty('penguin', 3)\n",
    "suzy.info()\n"
   ]
  },
  {
   "cell_type": "markdown",
   "metadata": {},
   "source": [
    "---\n",
    "<a id=\"assemble\"></a>\n",
    "## 2: Assemble a Zoo\n",
    "\n",
    "The class for Zoo personnel is now prepared and tested. With this in hand, we can create a Zoo with all classes we have at our disposal: `Zoo`, `Animal` and all derived animal classes (`Lion`, `Zebra`, `Penguin`), and your newly created `Person` class."
   ]
  },
  {
   "cell_type": "markdown",
   "metadata": {},
   "source": [
    "### 2.1 Creating animal and personnel objects\n",
    "\n",
    "First we need to create all objects for animals and zookeepers and store them in the `Zoo` object. Create the following objects:\n",
    " - animal objects (you can copy animals from your pre-class assignment or create new ones). **Remember**: when creating animals you should be using the special Animal classes that inherited the original basic `Animal` class (e.g. `Penguin`, `Lion`, etc.)\n",
    " - personnel objects:\n",
    "    - Geoffrey: can take care of 1 lion\n",
    "    - Cobie: can take care of 3 penguins\n",
    "    - Jai: can take care of 2 penguins\n",
    "    - Rui: can take care of 3 zebras\n",
    "    - Mallory: can take care of 3 lions\n",
    "\n",
    "**&#9989; Do This:** Write code that will define necessary animal and person objects in the cell below."
   ]
  },
  {
   "cell_type": "code",
   "execution_count": 34,
   "metadata": {},
   "outputs": [],
   "source": [
    "# put your code here\n",
    "alex = Lion(\"alex\")\n",
    "bob = Penguin(\"bob\")\n",
    "sam = Zebra(\"sam\")\n",
    "tom = Zebra(\"tom\")\n",
    "\n",
    "Geoffrey = Person(\"Geoffrey\")\n",
    "Cobie = Person(\"Cobie\")\n",
    "Jai = Person(\"Jai\")\n",
    "Rui = Person(\"Rui\")\n",
    "Mallory = Person(\"Mallory\")\n",
    "\n",
    "\n",
    "\n",
    "Geoffrey.set_specialty(\"lion\",1)\n",
    "Cobie.set_specialty(\"penguin\", 3)\n",
    "Jai.set_specialty(\"penguin\",2)\n",
    "Rui.set_specialty(\"zebra\",3)\n",
    "Mallory.set_specialty(\"lion\",3)\n",
    "\n"
   ]
  },
  {
   "cell_type": "markdown",
   "metadata": {},
   "source": [
    "### 2.2 Creating a Zoo\n",
    "\n",
    "Finally, let's create a zoo. The `Zoo` class (defined in file `Zoo.py`) provides all required attributes and methods to set/get/print information in the zoo. As in the pre-class assignments, we have to \"add\" our animal and person objects to the `Zoo` object (composition!). \n",
    "\n",
    "We should do the following:\n",
    " - create a `Zoo` object, you can name the zoo anything you'd like\n",
    " - add your animal objects to the `Zoo` object (they should be created in cells above)\n",
    " - add your personnel objects to the `Zoo` object (they should be created in cells above)\n",
    " - print the name of all the animal in the zoo\n",
    " - print number of personnel that work for the zoo\n",
    "\n",
    "Because the `Zoo` class is given, you should get **familiar with the class** first. Check what methods you need to use to achieve the tasks listed above and what are their arguments (parameters). There are  many ways to do this, either by opening the file and checking the content, using `dir()` to get the list methods (and attributes) in the object, or using `?` to get the description of individual methods.\n",
    "\n",
    "**Hint:** to get required parameters for creating an object, you can use `?` for the `__init__` method: `Animal.__init__?`.\n",
    "\n",
    "**&#9989; Do This:** Write code that will create a `Zoo` object, add all animal and personnel objects to your zoo, and then use the appropriate methods to pring the animal names and the number of personnel that work for your zoo."
   ]
  },
  {
   "cell_type": "code",
   "execution_count": 38,
   "metadata": {},
   "outputs": [
    {
     "name": "stdout",
     "output_type": "stream",
     "text": [
      "['alex', 'bob', 'sam', 'tom']\n",
      "5\n"
     ]
    }
   ],
   "source": [
    "# put your code here\n",
    "zoo = Zoo(\"grand rapids zoo\")\n",
    "zoo.add_person(Geoffrey)\n",
    "zoo.add_person(Cobie)\n",
    "zoo.add_person(Jai)\n",
    "zoo.add_person(Rui)\n",
    "zoo.add_person(Mallory)\n",
    "\n",
    "\n",
    "zoo.add(alex)\n",
    "zoo.add(bob)\n",
    "zoo.add(sam)\n",
    "zoo.add(tom)\n",
    "\n",
    "print(zoo.get_animal_names())\n",
    "print(zoo.number_zookeepers())"
   ]
  },
  {
   "cell_type": "markdown",
   "metadata": {},
   "source": [
    "---\n",
    "<a id=\"access\"></a>\n",
    "## 3: Accessing information about the Zoo\n",
    "\n",
    "### 3.1 Printing basic information about the Zoo\n",
    "\n",
    "We will proceed by printing similar information about our zoo as you did in the pre-class assignment. Of course now the zoo is defined as a `Zoo` **object** instead as a list.\n",
    "\n",
    "**&#9989; Do This:** Print out some more (or less) interesting facts about our zoo. Write the code into each cell to print the following information:\n",
    "   - number of animals in the zoo\n",
    "   - names of people hired by the zoo\n",
    "   - number of people you need to hire (round up to next integer number!) to take care of the animals (based on the number of zookeepers required per animal)\n",
    "   - total area of the zoo\n"
   ]
  },
  {
   "cell_type": "code",
   "execution_count": 39,
   "metadata": {},
   "outputs": [
    {
     "name": "stdout",
     "output_type": "stream",
     "text": [
      "4\n"
     ]
    }
   ],
   "source": [
    "# print number of animals in the Zoo\n",
    "print(zoo.number_animals())"
   ]
  },
  {
   "cell_type": "code",
   "execution_count": 40,
   "metadata": {},
   "outputs": [
    {
     "name": "stdout",
     "output_type": "stream",
     "text": [
      "5\n"
     ]
    }
   ],
   "source": [
    "# print number of people hired by the Zoo\n",
    "print(zoo.number_zookeepers())"
   ]
  },
  {
   "cell_type": "code",
   "execution_count": 45,
   "metadata": {},
   "outputs": [
    {
     "name": "stdout",
     "output_type": "stream",
     "text": [
      "Zoo needs 5 zookeepers\n"
     ]
    }
   ],
   "source": [
    "# print number of people you need to hire (round up to next integer number!) to take care for animals\n",
    "import math\n",
    "print(f'Zoo needs {math.ceil(sum([animal.get_number_keepers() for animal in zoo.get_animals().values()]))} zookeepers')"
   ]
  },
  {
   "cell_type": "code",
   "execution_count": 41,
   "metadata": {},
   "outputs": [
    {
     "name": "stdout",
     "output_type": "stream",
     "text": [
      "1100\n"
     ]
    }
   ],
   "source": [
    "# print total area of the Zoo\n",
    "print(zoo.total_area())"
   ]
  }
 ],
 "metadata": {
  "kernelspec": {
   "display_name": "Python 3",
   "language": "python",
   "name": "python3"
  },
  "language_info": {
   "codemirror_mode": {
    "name": "ipython",
    "version": 3
   },
   "file_extension": ".py",
   "mimetype": "text/x-python",
   "name": "python",
   "nbconvert_exporter": "python",
   "pygments_lexer": "ipython3",
   "version": "3.8.8"
  }
 },
 "nbformat": 4,
 "nbformat_minor": 4
}
